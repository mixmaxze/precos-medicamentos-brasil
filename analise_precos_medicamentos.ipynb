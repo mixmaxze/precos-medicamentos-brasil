{
 "cells": [
  {
   "cell_type": "markdown",
   "metadata": {},
   "source": [
    "### Este projeto é da autoria de [José Gama](https://github.com/mixmaxze).\n",
    " O objetivo é limpar e fazer uma análise exploratória dos dados referentes aos preços dos medicamentos que circulam pelo Brasil.<br>\n",
    " Esses dados estão disponíveis no site do governo. Você os encontra [aqui](https://dados.gov.br/dataset/ef3d5f8b-1661-4381-a369-4aed487bf313/resource/84531c98-b162-4c00-ae21-002192a51051).\n",
    " "
   ]
  },
  {
   "cell_type": "code",
   "execution_count": 1,
   "metadata": {},
   "outputs": [],
   "source": [
    "# Importando bibliotecas\n",
    "\n",
    "import pandas as pd\n",
    "from unidecode import unidecode"
   ]
  },
  {
   "cell_type": "code",
   "execution_count": 2,
   "metadata": {},
   "outputs": [],
   "source": [
    "# Carregando o DataFrame\n",
    "\n",
    "df = pd.read_csv('dados/TA_PRECO_MEDICAMENTO.csv', sep=';', low_memory=False)"
   ]
  },
  {
   "cell_type": "code",
   "execution_count": 3,
   "metadata": {
    "scrolled": false
   },
   "outputs": [
    {
     "data": {
      "text/plain": [
       "Index(['SUBSTÂNCIA', 'CNPJ', 'LABORATÓRIO', 'CÓDIGO GGREM', 'REGISTRO',\n",
       "       'EAN 1', 'EAN 2', 'EAN 3', 'PRODUTO', 'APRESENTAÇÃO',\n",
       "       'CLASSE TERAPÊUTICA', 'TIPO DE PRODUTO (STATUS DO PRODUTO)',\n",
       "       'REGIME DE PREÇO', 'PF Sem Impostos', 'PF 0%', 'PF 12%', 'PF 17%',\n",
       "       'PF 17% ALC', 'PF 17,5%', 'PF 17,5% ALC', 'PF 18%', 'PF 18% ALC',\n",
       "       'PF 20%', 'PMC 0%', 'PMC 12%', 'PMC 17%', 'PMC 17% ALC', 'PMC 17,5%',\n",
       "       'PMC 17,5% ALC', 'PMC 18%', 'PMC 18% ALC', 'PMC 20%',\n",
       "       'RESTRIÇÃO HOSPITALAR', 'CAP', 'CONFAZ 87', 'ICMS 0%',\n",
       "       'ANÁLISE RECURSAL',\n",
       "       'LISTA DE CONCESSÃO DE CRÉDITO TRIBUTÁRIO (PIS/COFINS)',\n",
       "       'COMERCIALIZAÇÃO 2019', 'TARJA'],\n",
       "      dtype='object')"
      ]
     },
     "execution_count": 3,
     "metadata": {},
     "output_type": "execute_result"
    }
   ],
   "source": [
    "# Todas os atributos disponíveis no dataset\n",
    "\n",
    "df.columns"
   ]
  },
  {
   "cell_type": "markdown",
   "metadata": {},
   "source": [
    "### Inserir link para pdf com descrição dos atributos AQUI!"
   ]
  },
  {
   "cell_type": "code",
   "execution_count": 23,
   "metadata": {},
   "outputs": [
    {
     "data": {
      "text/plain": [
       "<bound method NDFrame.head of                   SUBSTÂNCIA                CNPJ  ... COMERCIALIZAÇÃO 2019                            TARJA\n",
       "0      ACETATO DE LANREOTIDA  07.718.721/0001-80  ...                  Não                       Tarja -(*)\n",
       "1                  ACICLOVIR  45.992.062/0001-65  ...                  Não                Tarja Vermelha(*)\n",
       "2                  ACICLOVIR  45.992.062/0001-65  ...                  Não                Tarja Vermelha(*)\n",
       "3                  ACICLOVIR  45.992.062/0001-65  ...                  Não                Tarja Vermelha(*)\n",
       "4         ACTAEA RACEMOSA L.  78.950.011/0001-20  ...                  Não                       Tarja -(*)\n",
       "...                      ...                 ...  ...                  ...                              ...\n",
       "25986              ZOPICLONA  02.685.377/0001-57  ...                  Sim  Tarja Venda Livre/Sem Tarja (*)\n",
       "25987          ZUCLOPENTIXOL  04.522.600/0001-70  ...                  Sim                  Tarja  Vermelha\n",
       "25988          ZUCLOPENTIXOL  04.522.600/0001-70  ...                  Sim               Tarja Vermelha (*)\n",
       "25989          ZUCLOPENTIXOL  04.522.600/0001-70  ...                  Sim                  Tarja  Vermelha\n",
       "25990          ZUCLOPENTIXOL  04.522.600/0001-70  ...                  Sim                  Tarja  Vermelha\n",
       "\n",
       "[25991 rows x 40 columns]>"
      ]
     },
     "execution_count": 23,
     "metadata": {},
     "output_type": "execute_result"
    }
   ],
   "source": [
    "data.head"
   ]
  },
  {
   "cell_type": "markdown",
   "metadata": {},
   "source": [
    "## Limpeza dos dados\n",
    "1. Renomeando as colunas: <br>\n",
    "Para tornar mais simples o acesso às colunas, irei renomeá-las com letras minúsculas e sem acentos. <br>Depois, irei abreviar algumas colunas com termos menores e remover as que não serão usadas."
   ]
  },
  {
   "cell_type": "code",
   "execution_count": 4,
   "metadata": {},
   "outputs": [
    {
     "data": {
      "text/plain": [
       "Index(['substancia', 'cnpj', 'laboratorio', 'codigo_ggrem', 'registro',\n",
       "       'ean_1', 'ean_2', 'ean_3', 'produto', 'apresentacao',\n",
       "       'classe_terapeutica', 'tipo_de_produto_(status_do_produto)',\n",
       "       'regime_de_preco', 'pf_sem_impostos', 'pf_0%', 'pf_12%', 'pf_17%',\n",
       "       'pf_17%_alc', 'pf_17,5%', 'pf_17,5%_alc', 'pf_18%', 'pf_18%_alc',\n",
       "       'pf_20%', 'pmc_0%', 'pmc_12%', 'pmc_17%', 'pmc_17%_alc', 'pmc_17,5%',\n",
       "       'pmc_17,5%_alc', 'pmc_18%', 'pmc_18%_alc', 'pmc_20%',\n",
       "       'restricao_hospitalar', 'cap', 'confaz_87', 'icms_0%',\n",
       "       'analise_recursal',\n",
       "       'lista_de_concessao_de_credito_tributario_(pis/cofins)',\n",
       "       'comercializacao_2019', 'tarja'],\n",
       "      dtype='object')"
      ]
     },
     "execution_count": 4,
     "metadata": {},
     "output_type": "execute_result"
    }
   ],
   "source": [
    "df.columns = [str.lower(x) for x in df.columns] # deixando as letras minúsculas\n",
    "df.columns = [str.replace(x, ' ','_') for x in df. columns] # substituindo espaços por underline\n",
    "df.columns = [unidecode(x) for x in df.columns] # retirando os acentos\n",
    "df.columns"
   ]
  },
  {
   "cell_type": "code",
   "execution_count": 11,
   "metadata": {},
   "outputs": [
    {
     "data": {
      "text/plain": [
       "Index(['substancia', 'cnpj', 'lab', 'codigo_ggrem', 'registro', 'ean_1',\n",
       "       'ean_2', 'ean_3', 'produto', 'apresentacao', 'classe_terapeutica',\n",
       "       'status_produto', 'regime_preco', 'pf_sem_impostos', 'pf_0', 'pf_12',\n",
       "       'pf_17', 'pf_17_alc', 'pf_17.5', 'pf_17.5_alc', 'pf_18', 'pf_18_alc',\n",
       "       'pf_20', 'pmc_0', 'pmc_12', 'pmc_17', 'pmc_17_alc', 'pmc_17.5',\n",
       "       'pmc_17.5_alc', 'pmc_18', 'pmc_18_alc', 'pmc_20',\n",
       "       'restricao_hospitalar', 'cap', 'confaz_87', 'icms_0',\n",
       "       'analise_recursal', 'pis/cofins', 'comercializacao_2019', 'tarja'],\n",
       "      dtype='object')"
      ]
     },
     "execution_count": 11,
     "metadata": {},
     "output_type": "execute_result"
    }
   ],
   "source": [
    "df.rename(columns={'laboratorio': 'lab', 'tipo_de_produto_(status_do_produto)': 'status_produto',\n",
    "                  'regime_de_preco': 'regime_preco', 'lista_de_concessao_de_credito_tributario_(pis/cofins)': 'pis/cofins'},\n",
    "                 inplace = True)\n",
    "df.columns = [str.replace(x, '%', '') for x in df.columns] # removendo os símbolos de porcentagem\n",
    "df.columns = [str.replace(x, ',', '.') for x in df.columns] # trocando vírgulas por pontos\n",
    "df.columns"
   ]
  },
  {
   "cell_type": "code",
   "execution_count": 12,
   "metadata": {},
   "outputs": [
    {
     "data": {
      "text/plain": [
       "Index(['substancia', 'lab', 'ean_1', 'ean_2', 'ean_3', 'produto',\n",
       "       'apresentacao', 'classe_terapeutica', 'status_produto', 'regime_preco',\n",
       "       'pf_sem_impostos', 'pf_0', 'pf_12', 'pf_17', 'pf_17_alc', 'pf_17.5',\n",
       "       'pf_17.5_alc', 'pf_18', 'pf_18_alc', 'pf_20', 'pmc_0', 'pmc_12',\n",
       "       'pmc_17', 'pmc_17_alc', 'pmc_17.5', 'pmc_17.5_alc', 'pmc_18',\n",
       "       'pmc_18_alc', 'pmc_20', 'restricao_hospitalar', 'cap', 'icms_0',\n",
       "       'pis/cofins', 'tarja'],\n",
       "      dtype='object')"
      ]
     },
     "execution_count": 12,
     "metadata": {},
     "output_type": "execute_result"
    }
   ],
   "source": [
    "df.drop(columns=['analise_recursal', 'cnpj', 'comercializacao_2019', 'codigo_ggrem', 'registro', 'confaz_87'], inplace=True)\n",
    "df.columns"
   ]
  },
  {
   "cell_type": "code",
   "execution_count": null,
   "metadata": {},
   "outputs": [],
   "source": []
  }
 ],
 "metadata": {
  "kernelspec": {
   "display_name": "Python 3",
   "language": "python",
   "name": "python3"
  },
  "language_info": {
   "codemirror_mode": {
    "name": "ipython",
    "version": 3
   },
   "file_extension": ".py",
   "mimetype": "text/x-python",
   "name": "python",
   "nbconvert_exporter": "python",
   "pygments_lexer": "ipython3",
   "version": "3.8.5"
  }
 },
 "nbformat": 4,
 "nbformat_minor": 5
}
