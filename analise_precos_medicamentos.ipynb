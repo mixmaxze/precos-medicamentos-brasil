{
 "cells": [
  {
   "cell_type": "markdown",
   "id": "5b573766",
   "metadata": {},
   "source": [
    "## Este projeto é da autoria de [José Gama](https://github.com/mixmaxze).\n",
    " O objetivo é limpar e fazer uma análise exploratória dos dados referentes aos preços dos medicamentos que circulam pelo Brasil.<br>\n",
    " Esses dados estão disponíveis no site do governo. Você os encontra [aqui](https://dados.gov.br/dataset/ef3d5f8b-1661-4381-a369-4aed487bf313/resource/84531c98-b162-4c00-ae21-002192a51051).\n",
    " "
   ]
  },
  {
   "cell_type": "code",
   "execution_count": 1,
   "id": "c72992e1",
   "metadata": {},
   "outputs": [],
   "source": [
    "# Importando bibliotecas\n",
    "\n",
    "import pandas as pd\n",
    "from matplotlib import pyplot as plt\n",
    "from unidecode import unidecode"
   ]
  },
  {
   "cell_type": "code",
   "execution_count": 2,
   "id": "14ccbc81",
   "metadata": {},
   "outputs": [],
   "source": [
    "# Carregando o DataFrame\n",
    "\n",
    "df = pd.read_csv('dados/TA_PRECO_MEDICAMENTO.csv', sep=';', low_memory=False)"
   ]
  },
  {
   "cell_type": "code",
   "execution_count": 3,
   "id": "67ea87d5",
   "metadata": {
    "scrolled": false
   },
   "outputs": [
    {
     "data": {
      "text/plain": [
       "Index(['SUBSTÂNCIA', 'CNPJ', 'LABORATÓRIO', 'CÓDIGO GGREM', 'REGISTRO',\n",
       "       'EAN 1', 'EAN 2', 'EAN 3', 'PRODUTO', 'APRESENTAÇÃO',\n",
       "       'CLASSE TERAPÊUTICA', 'TIPO DE PRODUTO (STATUS DO PRODUTO)',\n",
       "       'REGIME DE PREÇO', 'PF Sem Impostos', 'PF 0%', 'PF 12%', 'PF 17%',\n",
       "       'PF 17% ALC', 'PF 17,5%', 'PF 17,5% ALC', 'PF 18%', 'PF 18% ALC',\n",
       "       'PF 20%', 'PMC 0%', 'PMC 12%', 'PMC 17%', 'PMC 17% ALC', 'PMC 17,5%',\n",
       "       'PMC 17,5% ALC', 'PMC 18%', 'PMC 18% ALC', 'PMC 20%',\n",
       "       'RESTRIÇÃO HOSPITALAR', 'CAP', 'CONFAZ 87', 'ICMS 0%',\n",
       "       'ANÁLISE RECURSAL',\n",
       "       'LISTA DE CONCESSÃO DE CRÉDITO TRIBUTÁRIO (PIS/COFINS)',\n",
       "       'COMERCIALIZAÇÃO 2019', 'TARJA'],\n",
       "      dtype='object')"
      ]
     },
     "execution_count": 3,
     "metadata": {},
     "output_type": "execute_result"
    }
   ],
   "source": [
    "# Todas os atributos disponíveis no dataset\n",
    "\n",
    "df.columns"
   ]
  },
  {
   "cell_type": "markdown",
   "id": "e59893ce",
   "metadata": {},
   "source": [
    "### A descrição desses atributos está disponível [aqui](https://github.com/mixmaxze/precos-medicamentos-brasil/blob/main/dados/dicionario_dados.pdf)."
   ]
  },
  {
   "cell_type": "code",
   "execution_count": 4,
   "id": "d1189b9e",
   "metadata": {},
   "outputs": [
    {
     "data": {
      "text/plain": [
       "<bound method NDFrame.head of                   SUBSTÂNCIA                CNPJ  \\\n",
       "0      ACETATO DE LANREOTIDA  07.718.721/0001-80   \n",
       "1                  ACICLOVIR  45.992.062/0001-65   \n",
       "2                  ACICLOVIR  45.992.062/0001-65   \n",
       "3                  ACICLOVIR  45.992.062/0001-65   \n",
       "4         ACTAEA RACEMOSA L.  78.950.011/0001-20   \n",
       "...                      ...                 ...   \n",
       "25986              ZOPICLONA  02.685.377/0001-57   \n",
       "25987          ZUCLOPENTIXOL  04.522.600/0001-70   \n",
       "25988          ZUCLOPENTIXOL  04.522.600/0001-70   \n",
       "25989          ZUCLOPENTIXOL  04.522.600/0001-70   \n",
       "25990          ZUCLOPENTIXOL  04.522.600/0001-70   \n",
       "\n",
       "                               LABORATÓRIO     CÓDIGO GGREM       REGISTRO  \\\n",
       "0         BEAUFOUR IPSEN FARMACÊUTICA LTDA  539220120001407  1697700020094   \n",
       "1                 GERMED FARMACEUTICA LTDA  526120110126207  1058309640048   \n",
       "2                 GERMED FARMACEUTICA LTDA  526120110126307  1058309640056   \n",
       "3                 GERMED FARMACEUTICA LTDA  526120110126407  1058309640064   \n",
       "4      HERBARIUM LABORATORIO BOTANICO LTDA  511420080009207  1186000070059   \n",
       "...                                    ...              ...            ...   \n",
       "25986     SANOFI-AVENTIS FARMACÊUTICA LTDA  502806201116315  1130003050010   \n",
       "25987                 LUNDBECK BRASIL LTDA  524200201114412  1047500450015   \n",
       "25988                 LUNDBECK BRASIL LTDA  524200202110410  1047500450031   \n",
       "25989                 LUNDBECK BRASIL LTDA  524200203151412  1047500450058   \n",
       "25990                 LUNDBECK BRASIL LTDA  524200204156418  1047500450082   \n",
       "\n",
       "               EAN 1          EAN 2       EAN 3             PRODUTO  \\\n",
       "0      7898932171249  7898932171218      -       SOMATULINE AUTOGEL   \n",
       "1      7896004708362         -           -                ACICLOVIR   \n",
       "2      7896004708379         -           -                ACICLOVIR   \n",
       "3      7896004775821         -           -                ACICLOVIR   \n",
       "4      7896083402588         -           -                 CLIFEMIN   \n",
       "...              ...            ...         ...                 ...   \n",
       "25986  7896070602403         -           -                  IMOVANE   \n",
       "25987  5702157108411         -           -                 CLOPIXOL   \n",
       "25988  5702157108459         -           -                 CLOPIXOL   \n",
       "25989  5702157108220         -           -                 CLOPIXOL   \n",
       "25990  5702157109159         -           -                 CLOPIXOL   \n",
       "\n",
       "                                            APRESENTAÇÃO  ... PMC 18% ALC  \\\n",
       "0      120 MG SOL INJ LIB PROL CT ENV AL/PLAS SER PRE...  ...     4141,17   \n",
       "1                 400 MG COM CT BL AL PLAS PVDC OPC X 20  ...       97,25   \n",
       "2                 400 MG COM CT BL AL PLAS PVDC OPC X 30  ...      145,90   \n",
       "3                 400 MG COM CT BL AL PLAS PVDC OPC X 50  ...      243,16   \n",
       "4           160 MG COM REV CT BL AL PLAS PVDC TRANS X 15  ...       57,48   \n",
       "...                                                  ...  ...         ...   \n",
       "25986            7,5 MG COM REV CT BL AL PLAS TRANS X 20  ...       59,61   \n",
       "25987            10 MG COM REV CT  BL AL PLAS TRANS X 20  ...       43,96   \n",
       "25988             25 MG COM REV CT BL AL PLAS TRANS X 20  ...       96,13   \n",
       "25989   50 MG/ML SOL INJ ACUPHASE CT AMP VD TRANS X 1 ML  ...       44,21   \n",
       "25990  200 MG/ML SOL INJ IM DEPOT CX AMP VD TRANS X 1 ML  ...       88,20   \n",
       "\n",
       "       PMC 20% RESTRIÇÃO HOSPITALAR  CAP CONFAZ 87 ICMS 0% ANÁLISE RECURSAL  \\\n",
       "0      4244,70                  Não  Sim       Sim     Não              (7)   \n",
       "1        99,69                  Não  Não       Não     Não              (7)   \n",
       "2       149,55                  Não  Não       Não     Não              (7)   \n",
       "3       249,24                  Não  Não       Não     Não              (7)   \n",
       "4        65,54                  Não  Não       Não     Não              (7)   \n",
       "...        ...                  ...  ...       ...     ...              ...   \n",
       "25986    61,10                  Não  Não       Não     Não              NaN   \n",
       "25987    45,07                  Não  Não       Não     Não              NaN   \n",
       "25988    98,54                  Não  Não       Não     Não              NaN   \n",
       "25989    45,32                  Não  Não       Não     Não              NaN   \n",
       "25990    90,41                  Não  Não       Não     Não              NaN   \n",
       "\n",
       "      LISTA DE CONCESSÃO DE CRÉDITO TRIBUTÁRIO (PIS/COFINS)  \\\n",
       "0                                               Positiva      \n",
       "1                                               Positiva      \n",
       "2                                               Positiva      \n",
       "3                                               Positiva      \n",
       "4                                               Negativa      \n",
       "...                                                  ...      \n",
       "25986                                           Positiva      \n",
       "25987                                           Positiva      \n",
       "25988                                           Positiva      \n",
       "25989                                           Positiva      \n",
       "25990                                           Positiva      \n",
       "\n",
       "      COMERCIALIZAÇÃO 2019                            TARJA  \n",
       "0                      Não                       Tarja -(*)  \n",
       "1                      Não                Tarja Vermelha(*)  \n",
       "2                      Não                Tarja Vermelha(*)  \n",
       "3                      Não                Tarja Vermelha(*)  \n",
       "4                      Não                       Tarja -(*)  \n",
       "...                    ...                              ...  \n",
       "25986                  Sim  Tarja Venda Livre/Sem Tarja (*)  \n",
       "25987                  Sim                  Tarja  Vermelha  \n",
       "25988                  Sim               Tarja Vermelha (*)  \n",
       "25989                  Sim                  Tarja  Vermelha  \n",
       "25990                  Sim                  Tarja  Vermelha  \n",
       "\n",
       "[25991 rows x 40 columns]>"
      ]
     },
     "execution_count": 4,
     "metadata": {},
     "output_type": "execute_result"
    }
   ],
   "source": [
    "# Uma visualização base sobre o dataset\n",
    "\n",
    "df.head"
   ]
  },
  {
   "cell_type": "code",
   "execution_count": 5,
   "id": "10f1f72b",
   "metadata": {},
   "outputs": [
    {
     "data": {
      "text/plain": [
       "(25991, 40)"
      ]
     },
     "execution_count": 5,
     "metadata": {},
     "output_type": "execute_result"
    }
   ],
   "source": [
    "# Tamanho do dataset (linhas, colunas)\n",
    "\n",
    "df.shape"
   ]
  },
  {
   "cell_type": "markdown",
   "id": "4149c55c",
   "metadata": {},
   "source": [
    "## Limpeza dos dados\n",
    "**1. Renomeando as colunas: <br>\n",
    "Para tornar mais simples o acesso às colunas, irei renomeá-las com letras minúsculas e sem acentos. <br>Depois, irei abreviar algumas colunas com termos menores e remover as que não serão usadas.**"
   ]
  },
  {
   "cell_type": "code",
   "execution_count": 6,
   "id": "ef14a7a1",
   "metadata": {},
   "outputs": [
    {
     "data": {
      "text/plain": [
       "Index(['substancia', 'cnpj', 'laboratorio', 'codigo_ggrem', 'registro',\n",
       "       'ean_1', 'ean_2', 'ean_3', 'produto', 'apresentacao',\n",
       "       'classe_terapeutica', 'tipo_de_produto_(status_do_produto)',\n",
       "       'regime_de_preco', 'pf_sem_impostos', 'pf_0%', 'pf_12%', 'pf_17%',\n",
       "       'pf_17%_alc', 'pf_17,5%', 'pf_17,5%_alc', 'pf_18%', 'pf_18%_alc',\n",
       "       'pf_20%', 'pmc_0%', 'pmc_12%', 'pmc_17%', 'pmc_17%_alc', 'pmc_17,5%',\n",
       "       'pmc_17,5%_alc', 'pmc_18%', 'pmc_18%_alc', 'pmc_20%',\n",
       "       'restricao_hospitalar', 'cap', 'confaz_87', 'icms_0%',\n",
       "       'analise_recursal',\n",
       "       'lista_de_concessao_de_credito_tributario_(pis/cofins)',\n",
       "       'comercializacao_2019', 'tarja'],\n",
       "      dtype='object')"
      ]
     },
     "execution_count": 6,
     "metadata": {},
     "output_type": "execute_result"
    }
   ],
   "source": [
    "df.columns = [str.lower(x) for x in df.columns] # deixando as letras minúsculas\n",
    "df.columns = [str.replace(x, ' ','_') for x in df. columns] # substituindo espaços por underline\n",
    "df.columns = [unidecode(x) for x in df.columns] # retirando os acentos\n",
    "df.columns"
   ]
  },
  {
   "cell_type": "code",
   "execution_count": 7,
   "id": "45647cd2",
   "metadata": {},
   "outputs": [
    {
     "data": {
      "text/plain": [
       "Index(['substancia', 'cnpj', 'lab', 'codigo_ggrem', 'registro', 'ean_1',\n",
       "       'ean_2', 'ean_3', 'produto', 'apresentacao', 'classe_terapeutica',\n",
       "       'status_produto', 'regime_preco', 'pf_sem_impostos', 'pf_0', 'pf_12',\n",
       "       'pf_17', 'pf_17_alc', 'pf_17.5', 'pf_17.5_alc', 'pf_18', 'pf_18_alc',\n",
       "       'pf_20', 'pmc_0', 'pmc_12', 'pmc_17', 'pmc_17_alc', 'pmc_17.5',\n",
       "       'pmc_17.5_alc', 'pmc_18', 'pmc_18_alc', 'pmc_20',\n",
       "       'restricao_hospitalar', 'cap', 'confaz_87', 'icms_0',\n",
       "       'analise_recursal', 'pis/cofins', 'comercializacao_2019', 'tarja'],\n",
       "      dtype='object')"
      ]
     },
     "execution_count": 7,
     "metadata": {},
     "output_type": "execute_result"
    }
   ],
   "source": [
    "df.rename(columns={'laboratorio': 'lab', 'tipo_de_produto_(status_do_produto)': 'status_produto',\n",
    "                  'regime_de_preco': 'regime_preco', 'lista_de_concessao_de_credito_tributario_(pis/cofins)': 'pis/cofins'},\n",
    "                 inplace = True)\n",
    "df.columns = [str.replace(x, '%', '') for x in df.columns] # removendo os símbolos de porcentagem\n",
    "df.columns = [str.replace(x, ',', '.') for x in df.columns] # trocando vírgulas por pontos\n",
    "df.columns"
   ]
  },
  {
   "cell_type": "code",
   "execution_count": 8,
   "id": "e1b8554c",
   "metadata": {},
   "outputs": [
    {
     "data": {
      "text/plain": [
       "Index(['substancia', 'lab', 'ean_1', 'ean_2', 'ean_3', 'produto',\n",
       "       'apresentacao', 'classe_terapeutica', 'status_produto', 'regime_preco',\n",
       "       'pf_sem_impostos', 'pf_0', 'pf_12', 'pf_17', 'pf_17_alc', 'pf_17.5',\n",
       "       'pf_17.5_alc', 'pf_18', 'pf_18_alc', 'pf_20', 'pmc_0', 'pmc_12',\n",
       "       'pmc_17', 'pmc_17_alc', 'pmc_17.5', 'pmc_17.5_alc', 'pmc_18',\n",
       "       'pmc_18_alc', 'pmc_20', 'restricao_hospitalar', 'cap', 'icms_0',\n",
       "       'pis/cofins', 'tarja'],\n",
       "      dtype='object')"
      ]
     },
     "execution_count": 8,
     "metadata": {},
     "output_type": "execute_result"
    }
   ],
   "source": [
    "df.drop(columns=['analise_recursal', 'cnpj', 'comercializacao_2019', 'codigo_ggrem', 'registro', 'confaz_87'], inplace=True)\n",
    "df.columns"
   ]
  },
  {
   "cell_type": "markdown",
   "id": "9c8e2ea7",
   "metadata": {},
   "source": [
    "**2. Corrigindo possíveis irregularidades nos valores**"
   ]
  },
  {
   "cell_type": "code",
   "execution_count": 9,
   "id": "98d2a49e",
   "metadata": {},
   "outputs": [
    {
     "data": {
      "text/plain": [
       "substancia              object\n",
       "lab                     object\n",
       "ean_1                   object\n",
       "ean_2                   object\n",
       "ean_3                   object\n",
       "produto                 object\n",
       "apresentacao            object\n",
       "classe_terapeutica      object\n",
       "status_produto          object\n",
       "regime_preco            object\n",
       "pf_sem_impostos         object\n",
       "pf_0                    object\n",
       "pf_12                   object\n",
       "pf_17                   object\n",
       "pf_17_alc               object\n",
       "pf_17.5                 object\n",
       "pf_17.5_alc             object\n",
       "pf_18                   object\n",
       "pf_18_alc               object\n",
       "pf_20                   object\n",
       "pmc_0                   object\n",
       "pmc_12                  object\n",
       "pmc_17                  object\n",
       "pmc_17_alc              object\n",
       "pmc_17.5                object\n",
       "pmc_17.5_alc            object\n",
       "pmc_18                  object\n",
       "pmc_18_alc              object\n",
       "pmc_20                  object\n",
       "restricao_hospitalar    object\n",
       "cap                     object\n",
       "icms_0                  object\n",
       "pis/cofins              object\n",
       "tarja                   object\n",
       "dtype: object"
      ]
     },
     "execution_count": 9,
     "metadata": {},
     "output_type": "execute_result"
    }
   ],
   "source": [
    "# Verificando os tipos das colunas\n",
    "\n",
    "df.dtypes"
   ]
  },
  {
   "cell_type": "code",
   "execution_count": 10,
   "id": "40c72508",
   "metadata": {},
   "outputs": [],
   "source": [
    "# Transformando strings numéricas em float\n",
    "\n",
    "# Primeiro, vamos substituir as vírgulas por pontos\n",
    "for coluna in df.columns:\n",
    "    df[coluna] = df[coluna].str.replace(',', '.')"
   ]
  },
  {
   "cell_type": "code",
   "execution_count": 11,
   "id": "0ab6b591",
   "metadata": {},
   "outputs": [],
   "source": [
    "# Agora vamos converter esses valores numéricos para o tipo float\n",
    "\n",
    "colunas_numericas = ['pf_sem_impostos', 'pf_0', 'pf_12', 'pf_17', 'pf_17_alc', 'pf_17.5',\n",
    "       'pf_17.5_alc', 'pf_18', 'pf_18_alc', 'pf_20', 'pmc_0', 'pmc_12',\n",
    "       'pmc_17', 'pmc_17_alc', 'pmc_17.5', 'pmc_17.5_alc', 'pmc_18',\n",
    "       'pmc_18_alc', 'pmc_20']\n",
    "\n",
    "for coluna in colunas_numericas:\n",
    "    df[coluna] = df[coluna].astype(float)"
   ]
  },
  {
   "cell_type": "code",
   "execution_count": 12,
   "id": "72ca6aee",
   "metadata": {},
   "outputs": [
    {
     "data": {
      "text/plain": [
       "substancia               object\n",
       "lab                      object\n",
       "ean_1                    object\n",
       "ean_2                    object\n",
       "ean_3                    object\n",
       "produto                  object\n",
       "apresentacao             object\n",
       "classe_terapeutica       object\n",
       "status_produto           object\n",
       "regime_preco             object\n",
       "pf_sem_impostos         float64\n",
       "pf_0                    float64\n",
       "pf_12                   float64\n",
       "pf_17                   float64\n",
       "pf_17_alc               float64\n",
       "pf_17.5                 float64\n",
       "pf_17.5_alc             float64\n",
       "pf_18                   float64\n",
       "pf_18_alc               float64\n",
       "pf_20                   float64\n",
       "pmc_0                   float64\n",
       "pmc_12                  float64\n",
       "pmc_17                  float64\n",
       "pmc_17_alc              float64\n",
       "pmc_17.5                float64\n",
       "pmc_17.5_alc            float64\n",
       "pmc_18                  float64\n",
       "pmc_18_alc              float64\n",
       "pmc_20                  float64\n",
       "restricao_hospitalar     object\n",
       "cap                      object\n",
       "icms_0                   object\n",
       "pis/cofins               object\n",
       "tarja                    object\n",
       "dtype: object"
      ]
     },
     "execution_count": 12,
     "metadata": {},
     "output_type": "execute_result"
    }
   ],
   "source": [
    "# Verificando os novos tipos\n",
    "\n",
    "df.dtypes"
   ]
  },
  {
   "cell_type": "code",
   "execution_count": 18,
   "id": "c4842aff",
   "metadata": {},
   "outputs": [
    {
     "data": {
      "text/plain": [
       "substancia              0\n",
       "pmc_17.5_alc            0\n",
       "pf_20                   0\n",
       "pmc_0                   0\n",
       "pmc_12                  0\n",
       "pmc_17                  0\n",
       "pmc_17_alc              0\n",
       "pmc_17.5                0\n",
       "pmc_18                  0\n",
       "lab                     0\n",
       "pmc_18_alc              0\n",
       "pmc_20                  0\n",
       "restricao_hospitalar    0\n",
       "cap                     0\n",
       "icms_0                  0\n",
       "pis/cofins              0\n",
       "pf_18_alc               0\n",
       "dtype: int64"
      ]
     },
     "execution_count": 18,
     "metadata": {},
     "output_type": "execute_result"
    }
   ],
   "source": [
    "# Verificando quais colunas possuem valores nulos\n",
    "\n",
    "df.isnull().sum().sort_values(ascending= False)[0:17]"
   ]
  },
  {
   "cell_type": "code",
   "execution_count": 14,
   "id": "ab217dfb",
   "metadata": {},
   "outputs": [],
   "source": [
    "# Substituindo os preços nulos pela mediana \n",
    "\n",
    "for coluna in colunas_numericas:\n",
    "    mediana = df[coluna].mean()\n",
    "    df[coluna].fillna(mediana, inplace = True)"
   ]
  },
  {
   "cell_type": "code",
   "execution_count": 16,
   "id": "5d3b0837",
   "metadata": {},
   "outputs": [
    {
     "data": {
      "text/plain": [
       "substancia              0\n",
       "pmc_17.5_alc            0\n",
       "pf_20                   0\n",
       "pmc_0                   0\n",
       "pmc_12                  0\n",
       "pmc_17                  0\n",
       "pmc_17_alc              0\n",
       "pmc_17.5                0\n",
       "pmc_18                  0\n",
       "lab                     0\n",
       "pmc_18_alc              0\n",
       "pmc_20                  0\n",
       "restricao_hospitalar    0\n",
       "cap                     0\n",
       "icms_0                  0\n",
       "pis/cofins              0\n",
       "pf_18_alc               0\n",
       "dtype: int64"
      ]
     },
     "execution_count": 16,
     "metadata": {},
     "output_type": "execute_result"
    }
   ],
   "source": [
    "# Verificando se os valores nulos sumiram\n",
    "\n",
    "df.isnull().sum().sort_values(ascending= False)[0:17]"
   ]
  },
  {
   "cell_type": "markdown",
   "id": "e3fcd1c1",
   "metadata": {},
   "source": [
    "**3. Analisando os dados** <br>\n",
    "Para comparação de preços utilizarei o pmc_18, pois essa alíquota de 18%, aplicada no preço máximo ao consumidor, é a presente na maioria dos estados brasileiros. "
   ]
  },
  {
   "cell_type": "markdown",
   "id": "08233a99",
   "metadata": {},
   "source": [
    "**Verificando quais os 20 medicamentos mais caros e suas respectivas substâncias, classes terapêuticas e tarjas**<br>\n",
    "\n",
    "Percebe-se que boa parte dos medicamentos mais caros são de tarja vermelha, ou seja:\n",
    "**precisam de receita médica**, pois são destinados a quadros clínicos que exigem maior cuidado e controle. Por isso, alguns precisam que a receita seja retida, pois são _fármacos controlados e psicotrópicos_, que podem causar dependência e trazer muitos efeitos colaterais e contraindicações."
   ]
  },
  {
   "cell_type": "code",
   "execution_count": 25,
   "id": "85db79ee",
   "metadata": {},
   "outputs": [
    {
     "data": {
      "text/html": [
       "<div>\n",
       "<style scoped>\n",
       "    .dataframe tbody tr th:only-of-type {\n",
       "        vertical-align: middle;\n",
       "    }\n",
       "\n",
       "    .dataframe tbody tr th {\n",
       "        vertical-align: top;\n",
       "    }\n",
       "\n",
       "    .dataframe thead th {\n",
       "        text-align: right;\n",
       "    }\n",
       "</style>\n",
       "<table border=\"1\" class=\"dataframe\">\n",
       "  <thead>\n",
       "    <tr style=\"text-align: right;\">\n",
       "      <th></th>\n",
       "      <th>produto</th>\n",
       "      <th>substancia</th>\n",
       "      <th>pmc_18</th>\n",
       "      <th>classe_terapeutica</th>\n",
       "      <th>tarja</th>\n",
       "    </tr>\n",
       "  </thead>\n",
       "  <tbody>\n",
       "    <tr>\n",
       "      <th>13080</th>\n",
       "      <td>EXHER</td>\n",
       "      <td>EVEROLIMO</td>\n",
       "      <td>545571.53</td>\n",
       "      <td>L1H9 - OUTROS ANTINEOPLÁSICOS INIBIDORES DA PR...</td>\n",
       "      <td>Tarja Vermelha(*)</td>\n",
       "    </tr>\n",
       "    <tr>\n",
       "      <th>1388</th>\n",
       "      <td>STRENSIQ</td>\n",
       "      <td>ALFA-ASFOTASE</td>\n",
       "      <td>386890.87</td>\n",
       "      <td>A16A - OUTROS PRODUTOS PARA O APARELHO DIGESTÓ...</td>\n",
       "      <td>Tarja Vermelha(*)</td>\n",
       "    </tr>\n",
       "    <tr>\n",
       "      <th>14307</th>\n",
       "      <td>GIVLAARI</td>\n",
       "      <td>GIVOSIRANA SÓDICA</td>\n",
       "      <td>349406.86</td>\n",
       "      <td>A16A - OUTROS PRODUTOS PARA O APARELHO DIGESTÓ...</td>\n",
       "      <td>Tarja -(*)</td>\n",
       "    </tr>\n",
       "    <tr>\n",
       "      <th>13076</th>\n",
       "      <td>EXHER</td>\n",
       "      <td>EVEROLIMO</td>\n",
       "      <td>272785.32</td>\n",
       "      <td>L1H9 - OUTROS ANTINEOPLÁSICOS INIBIDORES DA PR...</td>\n",
       "      <td>Tarja Vermelha (*)</td>\n",
       "    </tr>\n",
       "    <tr>\n",
       "      <th>23703</th>\n",
       "      <td>SOFOSBUVIR</td>\n",
       "      <td>SOFOSBUVIR</td>\n",
       "      <td>223931.28</td>\n",
       "      <td>J5D3 - ANTIVIRAIS PARA HEPATITE C</td>\n",
       "      <td>Tarja  Vermelha</td>\n",
       "    </tr>\n",
       "    <tr>\n",
       "      <th>13079</th>\n",
       "      <td>EXHER</td>\n",
       "      <td>EVEROLIMO</td>\n",
       "      <td>218228.64</td>\n",
       "      <td>L1H9 - OUTROS ANTINEOPLÁSICOS INIBIDORES DA PR...</td>\n",
       "      <td>Tarja Vermelha(*)</td>\n",
       "    </tr>\n",
       "    <tr>\n",
       "      <th>2101</th>\n",
       "      <td>TRANSLARNA</td>\n",
       "      <td>ATALURENO</td>\n",
       "      <td>205458.72</td>\n",
       "      <td>M5X - TODOS OS OUTROS FÁRMACOS COM AÇÃO MÚSCUL...</td>\n",
       "      <td>Tarja Vermelha(*)</td>\n",
       "    </tr>\n",
       "    <tr>\n",
       "      <th>23705</th>\n",
       "      <td>SOPHIR</td>\n",
       "      <td>SOFOSBUVIR</td>\n",
       "      <td>204266.93</td>\n",
       "      <td>J5D2 - ANTIVIRAIS PARA HEPATITE B</td>\n",
       "      <td>Tarja -(*)</td>\n",
       "    </tr>\n",
       "    <tr>\n",
       "      <th>1385</th>\n",
       "      <td>STRENSIQ</td>\n",
       "      <td>ALFA-ASFOTASE</td>\n",
       "      <td>193445.43</td>\n",
       "      <td>A16A - OUTROS PRODUTOS PARA O APARELHO DIGESTÓ...</td>\n",
       "      <td>Tarja Vermelha (*)</td>\n",
       "    </tr>\n",
       "    <tr>\n",
       "      <th>15206</th>\n",
       "      <td>CERDELGA</td>\n",
       "      <td>HEMITARTARATO DE ELIGLUSTATE</td>\n",
       "      <td>172671.20</td>\n",
       "      <td>A16A - OUTROS PRODUTOS PARA O APARELHO DIGESTÓ...</td>\n",
       "      <td>Tarja Venda Livre/Sem Tarja (*)</td>\n",
       "    </tr>\n",
       "    <tr>\n",
       "      <th>15207</th>\n",
       "      <td>CERDELGA</td>\n",
       "      <td>HEMITARTARATO DE ELIGLUSTATE</td>\n",
       "      <td>172671.20</td>\n",
       "      <td>A16A - OUTROS PRODUTOS PARA O APARELHO DIGESTÓ...</td>\n",
       "      <td>Tarja -(*)</td>\n",
       "    </tr>\n",
       "    <tr>\n",
       "      <th>15016</th>\n",
       "      <td>XOSPATA®</td>\n",
       "      <td>HEMIFUMARATO DE GILTERITINIBE</td>\n",
       "      <td>140966.76</td>\n",
       "      <td>L1H9 - OUTROS ANTINEOPLÁSICOS INIBIDORES DA PR...</td>\n",
       "      <td>Tarja Vermelha(*)</td>\n",
       "    </tr>\n",
       "    <tr>\n",
       "      <th>1387</th>\n",
       "      <td>STRENSIQ</td>\n",
       "      <td>ALFA-ASFOTASE</td>\n",
       "      <td>135411.81</td>\n",
       "      <td>A16A - OUTROS PRODUTOS PARA O APARELHO DIGESTÓ...</td>\n",
       "      <td>Tarja Vermelha (*)</td>\n",
       "    </tr>\n",
       "    <tr>\n",
       "      <th>24759</th>\n",
       "      <td>REVESTIVE</td>\n",
       "      <td>TEDUGLUTIDA</td>\n",
       "      <td>130707.56</td>\n",
       "      <td>A16A - OUTROS PRODUTOS PARA O APARELHO DIGESTÓ...</td>\n",
       "      <td>Tarja Vermelha(*)</td>\n",
       "    </tr>\n",
       "    <tr>\n",
       "      <th>24682</th>\n",
       "      <td>VYNDAQEL</td>\n",
       "      <td>TAFAMIDIS MEGLUMINA</td>\n",
       "      <td>125770.45</td>\n",
       "      <td>N7X - TODOS OS OUTROS PRODUTOS PARA O SISTEMA ...</td>\n",
       "      <td>Tarja -(*)</td>\n",
       "    </tr>\n",
       "    <tr>\n",
       "      <th>16678</th>\n",
       "      <td>KALYDECO</td>\n",
       "      <td>IVACAFTOR</td>\n",
       "      <td>116903.73</td>\n",
       "      <td>R7X - TODOS OS OUTROS PRODUTOS PARA O SISTEMA ...</td>\n",
       "      <td>Tarja Vermelha(*)</td>\n",
       "    </tr>\n",
       "    <tr>\n",
       "      <th>8177</th>\n",
       "      <td>TREBYXAN</td>\n",
       "      <td>CLORIDRATO DE IRINOTECANO TRIIDRATADO</td>\n",
       "      <td>113703.24</td>\n",
       "      <td>L1C3 - AGENTES ANTINEOPLÁSICOS CAMPTOTECINAS</td>\n",
       "      <td>Tarja  Vermelha</td>\n",
       "    </tr>\n",
       "    <tr>\n",
       "      <th>16679</th>\n",
       "      <td>SYMDEKO</td>\n",
       "      <td>IVACAFTOR;TEZACAFTOR</td>\n",
       "      <td>111573.64</td>\n",
       "      <td>R7X - TODOS OS OUTROS PRODUTOS PARA O SISTEMA ...</td>\n",
       "      <td>Tarja Vermelha(*)</td>\n",
       "    </tr>\n",
       "    <tr>\n",
       "      <th>16977</th>\n",
       "      <td>TAKHZYRO</td>\n",
       "      <td>LANADELUMABE</td>\n",
       "      <td>110360.78</td>\n",
       "      <td>B6D - PRODUTOS PARA ANGIODEMA HEREDITÁRIO</td>\n",
       "      <td>Tarja -(*)</td>\n",
       "    </tr>\n",
       "  </tbody>\n",
       "</table>\n",
       "</div>"
      ],
      "text/plain": [
       "          produto                             substancia     pmc_18  \\\n",
       "13080       EXHER                              EVEROLIMO  545571.53   \n",
       "1388     STRENSIQ                          ALFA-ASFOTASE  386890.87   \n",
       "14307    GIVLAARI                      GIVOSIRANA SÓDICA  349406.86   \n",
       "13076       EXHER                              EVEROLIMO  272785.32   \n",
       "23703  SOFOSBUVIR                             SOFOSBUVIR  223931.28   \n",
       "13079       EXHER                              EVEROLIMO  218228.64   \n",
       "2101   TRANSLARNA                              ATALURENO  205458.72   \n",
       "23705      SOPHIR                             SOFOSBUVIR  204266.93   \n",
       "1385     STRENSIQ                          ALFA-ASFOTASE  193445.43   \n",
       "15206    CERDELGA           HEMITARTARATO DE ELIGLUSTATE  172671.20   \n",
       "15207    CERDELGA           HEMITARTARATO DE ELIGLUSTATE  172671.20   \n",
       "15016    XOSPATA®          HEMIFUMARATO DE GILTERITINIBE  140966.76   \n",
       "1387     STRENSIQ                          ALFA-ASFOTASE  135411.81   \n",
       "24759   REVESTIVE                            TEDUGLUTIDA  130707.56   \n",
       "24682    VYNDAQEL                    TAFAMIDIS MEGLUMINA  125770.45   \n",
       "16678    KALYDECO                              IVACAFTOR  116903.73   \n",
       "8177     TREBYXAN  CLORIDRATO DE IRINOTECANO TRIIDRATADO  113703.24   \n",
       "16679     SYMDEKO                   IVACAFTOR;TEZACAFTOR  111573.64   \n",
       "16977    TAKHZYRO                           LANADELUMABE  110360.78   \n",
       "\n",
       "                                      classe_terapeutica  \\\n",
       "13080  L1H9 - OUTROS ANTINEOPLÁSICOS INIBIDORES DA PR...   \n",
       "1388   A16A - OUTROS PRODUTOS PARA O APARELHO DIGESTÓ...   \n",
       "14307  A16A - OUTROS PRODUTOS PARA O APARELHO DIGESTÓ...   \n",
       "13076  L1H9 - OUTROS ANTINEOPLÁSICOS INIBIDORES DA PR...   \n",
       "23703                  J5D3 - ANTIVIRAIS PARA HEPATITE C   \n",
       "13079  L1H9 - OUTROS ANTINEOPLÁSICOS INIBIDORES DA PR...   \n",
       "2101   M5X - TODOS OS OUTROS FÁRMACOS COM AÇÃO MÚSCUL...   \n",
       "23705                  J5D2 - ANTIVIRAIS PARA HEPATITE B   \n",
       "1385   A16A - OUTROS PRODUTOS PARA O APARELHO DIGESTÓ...   \n",
       "15206  A16A - OUTROS PRODUTOS PARA O APARELHO DIGESTÓ...   \n",
       "15207  A16A - OUTROS PRODUTOS PARA O APARELHO DIGESTÓ...   \n",
       "15016  L1H9 - OUTROS ANTINEOPLÁSICOS INIBIDORES DA PR...   \n",
       "1387   A16A - OUTROS PRODUTOS PARA O APARELHO DIGESTÓ...   \n",
       "24759  A16A - OUTROS PRODUTOS PARA O APARELHO DIGESTÓ...   \n",
       "24682  N7X - TODOS OS OUTROS PRODUTOS PARA O SISTEMA ...   \n",
       "16678  R7X - TODOS OS OUTROS PRODUTOS PARA O SISTEMA ...   \n",
       "8177        L1C3 - AGENTES ANTINEOPLÁSICOS CAMPTOTECINAS   \n",
       "16679  R7X - TODOS OS OUTROS PRODUTOS PARA O SISTEMA ...   \n",
       "16977          B6D - PRODUTOS PARA ANGIODEMA HEREDITÁRIO   \n",
       "\n",
       "                                 tarja  \n",
       "13080                Tarja Vermelha(*)  \n",
       "1388                 Tarja Vermelha(*)  \n",
       "14307                       Tarja -(*)  \n",
       "13076               Tarja Vermelha (*)  \n",
       "23703                  Tarja  Vermelha  \n",
       "13079                Tarja Vermelha(*)  \n",
       "2101                 Tarja Vermelha(*)  \n",
       "23705                       Tarja -(*)  \n",
       "1385                Tarja Vermelha (*)  \n",
       "15206  Tarja Venda Livre/Sem Tarja (*)  \n",
       "15207                       Tarja -(*)  \n",
       "15016                Tarja Vermelha(*)  \n",
       "1387                Tarja Vermelha (*)  \n",
       "24759                Tarja Vermelha(*)  \n",
       "24682                       Tarja -(*)  \n",
       "16678                Tarja Vermelha(*)  \n",
       "8177                   Tarja  Vermelha  \n",
       "16679                Tarja Vermelha(*)  \n",
       "16977                       Tarja -(*)  "
      ]
     },
     "execution_count": 25,
     "metadata": {},
     "output_type": "execute_result"
    }
   ],
   "source": [
    "df[['produto', 'substancia', 'pmc_18', 'classe_terapeutica', 'tarja']].sort_values(by='pmc_18', ascending=False)[0:19]"
   ]
  },
  {
   "cell_type": "code",
   "execution_count": null,
   "id": "85a5eed7",
   "metadata": {},
   "outputs": [],
   "source": []
  }
 ],
 "metadata": {
  "kernelspec": {
   "display_name": "Python 3",
   "language": "python",
   "name": "python3"
  },
  "language_info": {
   "codemirror_mode": {
    "name": "ipython",
    "version": 3
   },
   "file_extension": ".py",
   "mimetype": "text/x-python",
   "name": "python",
   "nbconvert_exporter": "python",
   "pygments_lexer": "ipython3",
   "version": "3.8.5"
  }
 },
 "nbformat": 4,
 "nbformat_minor": 5
}
